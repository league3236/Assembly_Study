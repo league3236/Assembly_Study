{
  "nbformat": 4,
  "nbformat_minor": 0,
  "metadata": {
    "colab": {
      "name": "Tensorflow Study.ipynb",
      "version": "0.3.2",
      "provenance": [],
      "include_colab_link": true
    },
    "kernelspec": {
      "name": "python3",
      "display_name": "Python 3"
    }
  },
  "cells": [
    {
      "cell_type": "markdown",
      "metadata": {
        "id": "view-in-github",
        "colab_type": "text"
      },
      "source": [
        "<a href=\"https://colab.research.google.com/github/league3236/Assembly_Study/blob/master/Tensorflow_Study.ipynb\" target=\"_parent\"><img src=\"https://colab.research.google.com/assets/colab-badge.svg\" alt=\"Open In Colab\"/></a>"
      ]
    },
    {
      "metadata": {
        "id": "8Hqx6WwOG9qo",
        "colab_type": "code",
        "colab": {}
      },
      "cell_type": "code",
      "source": [
        ""
      ],
      "execution_count": 0,
      "outputs": []
    },
    {
      "metadata": {
        "id": "7yxQD3pjHUnA",
        "colab_type": "text"
      },
      "cell_type": "markdown",
      "source": [
        "텐서프로우는 기계학습과 딥러닝을 위해 구글에서 만든 오픈소스 라이브러리\n",
        "\n",
        "데이터 플로우 그래프\n",
        "데이터 플로우 그래프는 수학 계산과 데이터의 흐름을 노드와 엣지를 사용한 방향 그래프로 표시합니다.\n",
        "\n",
        "노드는 수학적 계산, 데이터 입/출력, 그리고 데이터의 읽기/저장 등의 작업을 수행합니다. 엣지는 노드들 간 데이터의 입출력 관계를 나타냅니다.\n",
        "\n",
        "엣지는 동적 사이즈의 다차원 데이터 배열(=텐서)을 실어나르는데, 여기에서 텐서플로우라는 이름이 지어졌습니다.\n",
        "\n",
        "텐서(Tensor)는 과학과 공학 등 다양한 분야에서 이전부터 쓰이던 개념입니다. 수학에서는 임의의 기하 구조를 좌표 독립적으로 표현하기 위한 표기법으로 알려져 있지만, 분야마다 조금씩 다른 의미로 사용됩니다. 여기에서는 학습 데이터가 저장되는 다차원 배열 정도로 이해하시면 되겠습니다.\n",
        "\n",
        "특징\n",
        "텐서플로우는 다음과 같은 특징을 가집니다:\n",
        "\n",
        "데이터 플로우 그래프를 통한 풍부한 표현력\n",
        "코드 수정 없이 CPU/GPU 모드로 동작\n",
        "아이디어 테스트에서 서비스 단계까지 이용 가능\n",
        "계산 구조와 목표 함수만 정의하면 자동으로 미분 계산을 처리\n",
        "Python/C++를 지원하며, SWIG를 통해 다양한 언어 지원 가능\n",
        "\n",
        "\n",
        "텐서플로우는 설치가 비교적 쉬운 편입니다만, 다음과 같은 제약이 있습니다:\n",
        "\n",
        "Unix계열 OS(Linux/Mac OSX)만 지원합니다.\n",
        "GPU 버전은 Linux만 지원합니다.\n",
        "\n",
        "\n",
        "\n",
        "참고 : https://gist.github.com/haje01/202ac276bace4b25dd3f"
      ]
    },
    {
      "metadata": {
        "id": "3zMNSOY7HUPi",
        "colab_type": "text"
      },
      "cell_type": "markdown",
      "source": [
        ""
      ]
    },
    {
      "metadata": {
        "id": "ZqobbImUH6NV",
        "colab_type": "text"
      },
      "cell_type": "markdown",
      "source": [
        "어\n",
        "오퍼레이션(Operation)\n",
        "그래프 상의 노드는 오퍼레이션(줄임말 op)으로 불립니다. 오퍼레이션은 하나 이상의 텐서를 받을 수 있습니다. 오퍼레이션은 계산을 수행하고, 결과를 하나 이상의 텐서로 반환할 수 있습니다.\n",
        "\n",
        "텐서(Tensor)\n",
        "내부적으로 모든 데이터는 텐서를 통해 표현됩니다. 텐서는 일종의 다차원 배열인데, 그래프 내의 오퍼레이션 간에는 텐서만이 전달됩니다. (Caffe의 Blob과 유사합니다.)\n",
        "\n",
        "세션(Session)\n",
        "그래프를 실행하기 위해서는 세션 객체가 필요합니다. 세션은 오퍼레이션의 실행 환경을 캡슐화한 것입니다.\n",
        "\n",
        "변수(Variables)\n",
        "변수는 그래프의 실행시, 패러미터를 저장하고 갱신하는데 사용됩니다. 메모리 상에서 텐서를 저장하는 버퍼 역할을 합니다.\n",
        "\n",
        "예제\n",
        "간단한 예제를 통해 기본 개념을 확인하겠습니다."
      ]
    },
    {
      "metadata": {
        "id": "zcwCoXKXH5HN",
        "colab_type": "code",
        "colab": {}
      },
      "cell_type": "code",
      "source": [
        "import tensorflow as tf\n",
        "\n",
        "#변수를 0으로 초기화\n",
        "state = tf.Variable(0, name=\"counter\")\n",
        "\n",
        "#state에 1을 더할 오퍼레이션 생성\n",
        "one = tf.constant(1)\n",
        "new_value = tf.add(state, one)\n",
        "update = tf.assign(state, new_value)\n",
        "\n",
        "_"
      ],
      "execution_count": 0,
      "outputs": []
    }
  ]
}